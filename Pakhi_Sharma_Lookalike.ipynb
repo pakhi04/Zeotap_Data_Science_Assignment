{
 "cells": [
  {
   "cell_type": "code",
   "execution_count": 1,
   "id": "aae53ca9-2258-46e0-9890-554be74219eb",
   "metadata": {},
   "outputs": [],
   "source": [
    "import pandas as pd\n",
    "from sklearn.metrics.pairwise import cosine_similarity\n",
    "from sklearn.preprocessing import StandardScaler"
   ]
  },
  {
   "cell_type": "code",
   "execution_count": 2,
   "id": "5589aa04-3a69-4316-9d53-d217bd388962",
   "metadata": {},
   "outputs": [],
   "source": [
    "# Load the datasets\n",
    "customers = pd.read_csv('Customers.csv')\n",
    "products = pd.read_csv('Products.csv')\n",
    "transactions = pd.read_csv('Transactions.csv')"
   ]
  },
  {
   "cell_type": "code",
   "execution_count": 3,
   "id": "d70194da-53ad-4010-881b-349601bc8187",
   "metadata": {},
   "outputs": [],
   "source": [
    "# Merge transactions with customers to get customer profiles\n",
    "merged_data = transactions.merge(customers, on='CustomerID')\n"
   ]
  },
  {
   "cell_type": "code",
   "execution_count": 4,
   "id": "1b8d511a-6afa-436b-ae0a-8aa854cd2ebe",
   "metadata": {},
   "outputs": [],
   "source": [
    "# Create a customer profile DataFrame\n",
    "customer_profile = merged_data.groupby('CustomerID').agg({\n",
    "    'TotalValue': 'sum',\n",
    "    'Quantity': 'sum',\n",
    "    'Region': 'first',  \n",
    "    'SignupDate': 'first'\n",
    "}).reset_index()"
   ]
  },
  {
   "cell_type": "code",
   "execution_count": 5,
   "id": "22cd5193-6dab-405f-87a9-308c2e2f7a0a",
   "metadata": {},
   "outputs": [],
   "source": [
    "# Convert SignupDate to datetime and extract features\n",
    "customer_profile['SignupDate'] = pd.to_datetime(customer_profile['SignupDate'])\n",
    "customer_profile['SignupYear'] = customer_profile['SignupDate'].dt.year\n",
    "customer_profile['SignupMonth'] = customer_profile['SignupDate'].dt.month"
   ]
  },
  {
   "cell_type": "code",
   "execution_count": 6,
   "id": "c75833b8-9eba-413b-b4c9-c8419ae43a4b",
   "metadata": {},
   "outputs": [],
   "source": [
    "# One-hot encode the Region column\n",
    "customer_profile = pd.get_dummies(customer_profile, columns=['Region'], drop_first=True)"
   ]
  },
  {
   "cell_type": "code",
   "execution_count": 7,
   "id": "8a16236f-9f3b-4e20-ab8d-923d8133ab6e",
   "metadata": {},
   "outputs": [],
   "source": [
    "# Scale the numerical features\n",
    "scaler = StandardScaler()\n",
    "scaled_features = scaler.fit_transform(customer_profile[['TotalValue', 'Quantity', 'SignupYear', 'SignupMonth']])\n"
   ]
  },
  {
   "cell_type": "code",
   "execution_count": 8,
   "id": "5cd5ee1d-78c1-4dac-8102-ccd510287d85",
   "metadata": {},
   "outputs": [],
   "source": [
    "# Combine scaled features with one-hot encoded regions\n",
    "final_profile = pd.DataFrame(scaled_features, columns=['TotalValue', 'Quantity', 'SignupYear', 'SignupMonth'])\n",
    "final_profile = pd.concat([final_profile, customer_profile.drop(columns=\n",
    "                                                                ['CustomerID', 'TotalValue', 'Quantity', 'SignupDate', 'SignupYear', 'SignupMonth'])], axis=1)"
   ]
  },
  {
   "cell_type": "code",
   "execution_count": 9,
   "id": "13968d43-5a93-4446-8b8f-a9d7d644d6a2",
   "metadata": {},
   "outputs": [],
   "source": [
    "# Function to find lookalikes\n",
    "def find_lookalikes(customer_id, top_n=3):\n",
    "    # Get the profile of the input customer\n",
    "    input_customer = final_profile.loc[customers['CustomerID'] == customer_id].values\n",
    "    \n",
    "    # Calculate cosine similarity\n",
    "    similarities = cosine_similarity(input_customer, final_profile)\n",
    "    \n",
    "    # Get the indices of the top N similar customers\n",
    "    similar_indices = similarities[0].argsort()[-top_n-1:-1][::-1]  # Exclude the customer itself\n",
    "    \n",
    "    # Get the similar customers and their similarity scores\n",
    "    similar_customers = customers.iloc[similar_indices]\n",
    "    scores = similarities[0][similar_indices]\n",
    "    \n",
    "    return similar_customers[['CustomerID', 'CustomerName']], scores"
   ]
  },
  {
   "cell_type": "code",
   "execution_count": 10,
   "id": "18be41f9-37a5-4f3c-b027-9881ffb6cc8d",
   "metadata": {},
   "outputs": [],
   "source": [
    "# Generate lookalikes for the first 20 customers\n",
    "lookalike_results = []\n",
    "for customer_id in customers['CustomerID'].head(20):\n",
    "    similar_customers, scores = find_lookalikes(customer_id)\n",
    "    for index, (similar_customer_id, score) in enumerate(zip(similar_customers['CustomerID'], scores)):\n",
    "        lookalike_results.append((customer_id, similar_customer_id, score))"
   ]
  },
  {
   "cell_type": "code",
   "execution_count": 11,
   "id": "b6cac21f-a891-4c52-8fbf-e860231b9934",
   "metadata": {},
   "outputs": [],
   "source": [
    "# Convert results to DataFrame for saving\n",
    "lookalike_df = pd.DataFrame(lookalike_results, columns=['CustomerID', 'LookalikeCustomerID', 'SimilarityScore'])\n"
   ]
  },
  {
   "cell_type": "code",
   "execution_count": 12,
   "id": "4817c771-86ef-4900-9f9e-f16810fb892b",
   "metadata": {},
   "outputs": [
    {
     "name": "stdout",
     "output_type": "stream",
     "text": [
      "Lookalike model generated and saved to 'Pakhi_Sharma_Lookalike.csv'.\n"
     ]
    }
   ],
   "source": [
    "# Save the lookalike results to a CSV file\n",
    "lookalike_df.to_csv('Pakhi_Sharma_Lookalike.csv', index=False)\n",
    "\n",
    "print(\"Lookalike model generated and saved to 'Pakhi_Sharma_Lookalike.csv'.\")"
   ]
  },
  {
   "cell_type": "code",
   "execution_count": null,
   "id": "645a6263-27e0-4c9c-b1be-ed6664fd7759",
   "metadata": {},
   "outputs": [],
   "source": []
  }
 ],
 "metadata": {
  "kernelspec": {
   "display_name": "Python 3 (ipykernel)",
   "language": "python",
   "name": "python3"
  },
  "language_info": {
   "codemirror_mode": {
    "name": "ipython",
    "version": 3
   },
   "file_extension": ".py",
   "mimetype": "text/x-python",
   "name": "python",
   "nbconvert_exporter": "python",
   "pygments_lexer": "ipython3",
   "version": "3.11.7"
  }
 },
 "nbformat": 4,
 "nbformat_minor": 5
}
